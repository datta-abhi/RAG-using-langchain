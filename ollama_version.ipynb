{
 "cells": [
  {
   "cell_type": "code",
   "execution_count": 16,
   "metadata": {},
   "outputs": [],
   "source": [
    "#imports\n",
    "import os\n",
    "import gradio as gr\n",
    "from langchain_chroma import Chroma\n",
    "from langchain_ollama import OllamaEmbeddings,ChatOllama\n",
    "from langchain.memory import ConversationBufferMemory\n",
    "from langchain.chains import ConversationalRetrievalChain\n",
    "\n",
    "from docs import chunks"
   ]
  },
  {
   "cell_type": "code",
   "execution_count": 17,
   "metadata": {},
   "outputs": [],
   "source": [
    "# variables\n",
    "DB_NAME = 'ollama-vectordb'\n",
    "MODEL = 'llama3.2:latest'\n",
    "EMBED_MODEL = 'nomic-embed-text'"
   ]
  },
  {
   "cell_type": "markdown",
   "metadata": {},
   "source": [
    "## Create Chroma vector DB"
   ]
  },
  {
   "cell_type": "code",
   "execution_count": 18,
   "metadata": {},
   "outputs": [],
   "source": [
    "#initialise embeddings\n",
    "embeddings = OllamaEmbeddings(model = EMBED_MODEL) "
   ]
  },
  {
   "cell_type": "code",
   "execution_count": 19,
   "metadata": {},
   "outputs": [
    {
     "name": "stdout",
     "output_type": "stream",
     "text": [
      "Vectorstore created with 135 documents\n"
     ]
    }
   ],
   "source": [
    "# create new Chroma datastore\n",
    "if os.path.exists(DB_NAME):\n",
    "    Chroma(persist_directory= DB_NAME, embedding_function= embeddings).delete_collection()\n",
    "    \n",
    "# Create vectorstore\n",
    "vectorstore = Chroma.from_documents(documents=chunks, embedding=embeddings, persist_directory=DB_NAME)\n",
    "print(f\"Vectorstore created with {vectorstore._collection.count()} documents\")\n",
    "    "
   ]
  },
  {
   "cell_type": "code",
   "execution_count": 20,
   "metadata": {},
   "outputs": [
    {
     "data": {
      "text/plain": [
       "[Document(id='e6d748d5-144d-4f06-832a-57a64d236a59', metadata={'doc_type': 'company', 'source': 'knowledge-base\\\\company\\\\overview.md'}, page_content='# Overview of Insurellm\\n\\nInsurellm is an innovative insurance tech firm with 200 employees across the US.\\nInsurellm offers 4 insurance software products:\\n- Carllm, a portal for auto insurance companies\\n- Homellm, a portal for home insurance companies\\n- Rellm, an enterprise platform for the reinsurance sector\\n- Marketllm, a marketplace for connecting consumers with insurance providers\\n  \\nInsurellm has more than 300 clients worldwide.'),\n",
       " Document(id='5743d5c5-07ce-4fe6-a185-564dd672af2e', metadata={'doc_type': 'contracts', 'source': 'knowledge-base\\\\contracts\\\\Contract with Apex Reinsurance for Rellm.md'}, page_content='# Contract with Apex Reinsurance for Rellm: AI-Powered Enterprise Reinsurance Solution\\n\\n## Terms\\n\\n1. **Parties Involved**: This contract (“Agreement”) is entered into between Insurellm, Inc. (“Provider”) and Apex Reinsurance (“Client”) on this [Date].\\n\\n2. **Scope of Services**: Provider agrees to deliver the Rellm solution, which includes AI-driven analytics, seamless integrations, risk assessment modules, customizable dashboards, regulatory compliance tools, and client and broker portals as described in the product summary.\\n\\n3. **Payment Terms**: Client shall pay the Provider the sum of $10,000 per month for the duration of this agreement. Payments are due on the first day of each month and will be processed via electronic funds transfer.\\n\\n4. **Contract Duration**: This Agreement shall commence on [Start Date] and shall remain in effect for a period of twelve (12) months unless terminated earlier in accordance with the terms set forth herein.\\n\\n## Renewal')]"
      ]
     },
     "execution_count": 20,
     "metadata": {},
     "output_type": "execute_result"
    }
   ],
   "source": [
    "#quick test on similarity search using the embeddings\n",
    "docs = vectorstore.similarity_search('What is the Reinsurance product in insurellm',k = 2)\n",
    "docs"
   ]
  },
  {
   "cell_type": "code",
   "execution_count": 21,
   "metadata": {},
   "outputs": [
    {
     "data": {
      "text/plain": [
       "[Document(id='c23eaa54-a9d2-40af-b5d2-15261a06f974', metadata={'doc_type': 'employees', 'source': 'knowledge-base\\\\employees\\\\Samuel Trenton.md'}, page_content='# HR Record\\n\\n# Samuel Trenton\\n\\n## Summary\\n- **Date of Birth:** April 12, 1989  \\n- **Job Title:** Senior Data Scientist  \\n- **Location:** Austin, Texas  \\n\\n## Insurellm Career Progression\\n- **January 2020 - Present:** Senior Data Scientist  \\n  *Promoted for demonstrating exceptional analytical skills and leadership potential. Led several projects that improved customer segmentation strategies, resulting in a 15% increase in customer retention.*\\n\\n- **June 2018 - December 2019:** Data Scientist  \\n  *Joined the Insurellm team and worked on developing predictive modeling techniques to assess risk for both B2B and B2C customers. Received recognition for the success of the \"Risk Assessment Model\" project.*\\n\\n- **August 2016 - May 2018:** Junior Data Analyst  \\n  *Started at Insurellm as a Junior Data Analyst, focusing on data cleaning and preliminary analysis of customer data. Received training in various data visualization techniques, which aided in the transition to a Data Scientist role.*'),\n",
       " Document(id='4c2b7445-c473-431a-9bb0-bd2eb85e4257', metadata={'doc_type': 'employees', 'source': 'knowledge-base\\\\employees\\\\Samuel Trenton.md'}, page_content='- **August 2016 - May 2018:** Junior Data Analyst  \\n  *Started at Insurellm as a Junior Data Analyst, focusing on data cleaning and preliminary analysis of customer data. Received training in various data visualization techniques, which aided in the transition to a Data Scientist role.*\\n\\n## Annual Performance History\\n- **2023:** Rating: 4.5/5  \\n  *Samuel exceeded expectations, successfully leading a cross-departmental project on AI-driven underwriting processes.*\\n\\n- **2022:** Rating: 3.0/5  \\n  *Some challenges in meeting deadlines and collaboration with the engineering team. Received constructive feedback and participated in a team communication workshop.*\\n\\n- **2021:** Rating: 4.0/5  \\n  *There was notable improvement in performance. Worked to enhance model accuracy, leading to improved risk assessment outcomes for B2C customers.*')]"
      ]
     },
     "execution_count": 21,
     "metadata": {},
     "output_type": "execute_result"
    }
   ],
   "source": [
    "vectorstore.similarity_search('Who is the data scientist',k = 2)"
   ]
  },
  {
   "cell_type": "code",
   "execution_count": 22,
   "metadata": {},
   "outputs": [
    {
     "name": "stdout",
     "output_type": "stream",
     "text": [
      "Nos of dims:  768\n"
     ]
    }
   ],
   "source": [
    "# fetch sample vector and view its dimensions\n",
    "collection = vectorstore._collection\n",
    "sample_embedding = collection.get(limit = 1, include = ['embeddings'])['embeddings'][0]\n",
    "dimensions = len(sample_embedding)\n",
    "print(\"Nos of dims: \",dimensions)"
   ]
  },
  {
   "cell_type": "code",
   "execution_count": 23,
   "metadata": {},
   "outputs": [
    {
     "name": "stdout",
     "output_type": "stream",
     "text": [
      "[-1.03440592e-02  5.65509312e-02 -2.19752684e-01  2.61731502e-02\n",
      "  4.21056487e-02 -7.40505150e-03 -1.54459160e-02 -3.32542975e-03\n",
      "  3.75442095e-02 -4.17945459e-02 -2.86805723e-02  7.85878301e-03\n",
      "  8.28650296e-02 -2.24776138e-02  9.18852817e-03  1.31700635e-02\n",
      " -2.20770040e-03 -4.49386705e-03 -2.04564016e-02 -1.80187039e-02\n",
      " -2.85939071e-02 -5.36701232e-02 -5.65863512e-02 -3.58319506e-02\n",
      "  6.27389774e-02  3.38080265e-02  1.13324844e-03  1.22766579e-02\n",
      "  5.79013564e-02  4.45616283e-02  7.64356628e-02 -2.58082636e-02\n",
      " -3.20745856e-02 -5.91641255e-02 -2.87206657e-02 -7.83755071e-03\n",
      "  2.72876713e-02  3.27297710e-02 -1.90202072e-02  1.37488255e-02\n",
      "  6.53089955e-02  2.01688260e-02  9.02511645e-03 -5.77179566e-02\n",
      "  5.97879440e-02  3.90188694e-02 -2.04071328e-02  2.81482656e-02\n",
      "  3.96651626e-02 -5.12509122e-02  6.11025980e-03 -6.63496880e-03\n",
      "  2.04831883e-02 -4.31475171e-04  4.47583608e-02 -4.17908952e-02\n",
      " -5.51801808e-02  3.74281593e-02 -2.52172984e-02 -1.81249715e-02\n",
      "  7.10056648e-02  3.53955664e-02 -9.14207567e-03  3.92267331e-02\n",
      "  2.57918146e-02 -3.29584889e-02  2.53332220e-02  1.84223820e-02\n",
      "  4.63641770e-02 -3.97551879e-02  1.66935716e-02 -1.00604258e-02\n",
      " -6.74717687e-03 -6.93567749e-03 -3.64667699e-02  1.80363338e-02\n",
      " -1.23550333e-02 -1.27064297e-02  1.75106563e-02  2.80917175e-02\n",
      "  6.05120212e-02  8.14244989e-03  1.33439722e-02 -3.73238954e-03\n",
      "  2.24533677e-03  1.88403036e-02  1.18524535e-03 -4.39608470e-02\n",
      " -3.07360869e-02  3.82758714e-02  4.29647155e-02  2.57027857e-02\n",
      " -2.05159765e-02  3.72152105e-02 -7.68770948e-02 -5.70223555e-02\n",
      "  4.82873572e-03 -5.60471192e-02 -5.61908679e-03 -3.57290730e-02\n",
      " -1.07833203e-02 -8.22269842e-02  3.96495778e-03  4.11187997e-03\n",
      "  6.47492707e-02  2.90181600e-02 -8.36152956e-03 -2.66760867e-02\n",
      "  3.07605416e-02  4.65858504e-02  3.30612548e-02 -7.63307512e-03\n",
      " -3.29299048e-02 -4.14581187e-02 -1.56466812e-02 -5.62901236e-03\n",
      "  6.77069575e-02 -3.38533265e-03  6.16936609e-02  2.77567822e-02\n",
      " -1.75632015e-02 -7.02761784e-02  3.14787291e-02 -2.09701322e-02\n",
      " -1.68494079e-02  1.56085435e-02 -3.92251499e-02  1.21494029e-02\n",
      " -4.12982097e-03 -1.69472005e-02 -1.78472640e-03  7.06577254e-03\n",
      " -3.37389894e-02 -3.44487578e-02  4.21351530e-02  5.62142357e-02\n",
      " -2.60383845e-03 -2.85023376e-02  2.13269405e-02  9.21120420e-02\n",
      " -2.62908894e-03  1.70015898e-02 -8.96972232e-03  5.81478886e-03\n",
      "  8.38282146e-03 -1.06458385e-02 -4.00221179e-04  5.88348601e-04\n",
      " -2.36799847e-02 -1.24090519e-02 -3.07493955e-02 -1.54702086e-03\n",
      " -4.48919088e-02  6.54828846e-02 -4.91423951e-03 -3.37880291e-02\n",
      " -4.39781547e-02 -1.36047686e-02  4.62812930e-02  1.38079254e-02\n",
      "  2.18266044e-02 -1.23893805e-02  5.18859504e-03  2.16903165e-02\n",
      " -3.06961108e-02  1.75755029e-03 -2.00556940e-03  6.25069812e-02\n",
      "  3.22191231e-02  5.81663847e-03  1.96623802e-02 -1.52662527e-02\n",
      "  1.13286509e-03 -1.25370752e-02  5.29548228e-02 -5.08672483e-02\n",
      " -1.20373350e-02 -3.48915830e-02  4.69468944e-02 -6.99641854e-02\n",
      "  1.95170306e-02 -7.83749074e-02  4.05821949e-02  3.96901928e-02\n",
      " -1.29600465e-02 -1.97890364e-02  1.96289439e-02 -6.67595863e-02\n",
      " -3.66973504e-02 -7.26761818e-02  3.98053415e-02  6.46867827e-02\n",
      " -5.16450442e-02 -2.64503323e-02 -1.16935242e-02  3.52736525e-02\n",
      "  9.64485183e-02  2.73003392e-02  4.60773408e-02 -4.65766303e-02\n",
      "  3.29428096e-03  1.49626227e-03 -6.19041733e-02 -8.07521865e-03\n",
      " -5.32349385e-02  7.47118220e-02  3.20427157e-02  3.39472629e-02\n",
      " -1.94187704e-02  3.12693454e-02  5.69232590e-02 -2.84153689e-02\n",
      " -4.23199758e-02 -2.46553514e-02  1.87622793e-02 -1.90950278e-02\n",
      "  6.95362641e-03 -2.79687494e-02 -3.42476601e-03 -1.10655325e-02\n",
      "  2.08729263e-02  4.93201017e-02  8.64340086e-03 -5.07676676e-02\n",
      "  3.64645338e-03 -5.93270734e-02 -2.65411623e-02 -2.05879249e-02\n",
      " -2.98635326e-02  2.62976903e-02 -2.39363071e-02 -2.24887468e-02\n",
      "  7.50346631e-02  1.96656883e-02  5.24127157e-03 -6.57214969e-03\n",
      " -2.15403643e-02  5.28248921e-02 -7.28495419e-03 -1.27206855e-02\n",
      "  1.81910098e-02  3.04761175e-02 -3.19877416e-02  2.11649928e-02\n",
      " -2.61438955e-02 -5.96965756e-03 -2.51535196e-02 -5.51000163e-02\n",
      "  2.53462465e-03  8.14959630e-02  1.91704389e-02  1.24872103e-02\n",
      "  1.56965982e-02 -3.02170683e-02  1.19885942e-02 -3.46690267e-02\n",
      " -3.29432189e-02  3.01964860e-02 -1.10949455e-02  3.02739497e-02\n",
      "  2.73647178e-02 -1.21426955e-02  7.59473518e-02 -5.68735460e-03\n",
      " -5.35548516e-02  5.37810102e-03 -2.41727531e-02 -2.56797597e-02\n",
      "  3.13065276e-02 -7.30410451e-03  1.63698830e-02  4.41063307e-02\n",
      "  1.80970933e-02  8.20122212e-02  1.64711997e-02 -4.01956514e-02\n",
      " -5.11560077e-03 -2.19578780e-02 -3.21559161e-02  3.80232930e-02\n",
      " -4.58261138e-03 -5.12421913e-02 -4.71058860e-02  2.25626640e-02\n",
      " -2.34960243e-02  2.33255439e-02  5.76846525e-02  2.73321010e-02\n",
      "  3.03805452e-02 -1.85381416e-02  2.13324223e-02 -4.19923440e-02\n",
      " -1.38419196e-02  9.21499822e-03 -2.79755350e-02 -5.55773126e-03\n",
      "  2.33180579e-02 -1.34914368e-02  3.38856056e-02 -5.26478104e-02\n",
      "  1.62801668e-02  4.11932059e-02 -1.64830650e-04  2.44393591e-02\n",
      "  1.37383081e-02 -1.81821417e-02  7.25164218e-03  4.30675782e-03\n",
      "  4.31748107e-02  6.68861857e-03  3.89511138e-02 -4.27289121e-02\n",
      " -6.59400970e-02  6.08896744e-03 -5.61015010e-02  7.88830444e-02\n",
      "  3.06292232e-02  3.30580622e-02  3.35651115e-02 -3.59864421e-02\n",
      " -1.37282873e-03 -3.59464474e-02 -3.04140598e-02 -8.69236439e-02\n",
      "  2.79855765e-02  3.08379419e-02 -4.07422483e-02  2.83823609e-02\n",
      " -1.55492816e-02 -4.07479741e-02 -1.93444882e-02  5.00882417e-02\n",
      "  1.79886613e-02 -4.68026102e-02  5.11655174e-02 -2.40793861e-02\n",
      " -1.67273991e-02  4.17920053e-02  3.62543687e-02  5.99471368e-02\n",
      "  6.55820966e-02 -2.39506271e-02 -2.40476616e-02 -6.00455366e-02\n",
      " -7.02394843e-02 -1.95745621e-02 -4.47287410e-02 -2.08191667e-02\n",
      "  6.02823421e-02  5.33143021e-02 -3.17216851e-03  1.80590525e-03\n",
      " -1.15465987e-02 -1.24513097e-02  2.12111063e-02  3.41277308e-04\n",
      "  2.41025519e-02  4.77071889e-02  7.48784319e-02  9.60621517e-03\n",
      "  4.50435802e-02  1.86147474e-04 -1.13425218e-02 -4.02375832e-02\n",
      " -6.72387937e-03  1.88324712e-02  5.20211793e-02  1.26331355e-02\n",
      "  3.70240100e-02  3.47920321e-02 -5.98076768e-02 -3.70240808e-02\n",
      " -1.17385676e-02  3.20409425e-02 -1.13129998e-02  2.82686930e-02\n",
      " -8.60541165e-02 -2.16678120e-02 -2.69008484e-02 -2.35915724e-02\n",
      "  8.01721960e-03 -4.37426232e-02 -3.95085439e-02 -1.44351665e-02\n",
      " -2.17113215e-02  2.70963814e-02  3.87451723e-02 -2.88663488e-02\n",
      "  2.01809686e-02  1.05224911e-03 -7.85567332e-03 -4.11326364e-02\n",
      "  8.33599921e-03 -3.78264673e-02  5.44820055e-02  8.31461046e-03\n",
      " -7.76036782e-03 -2.94990633e-02  1.48578472e-02  2.42070518e-02\n",
      " -5.64242750e-02 -1.54116880e-02  4.24608297e-04 -5.82630327e-03\n",
      " -2.74712965e-02 -5.39780455e-03  5.91586297e-03 -3.59430872e-02\n",
      "  4.16670889e-02 -1.48002813e-02 -6.77342527e-03  5.38201518e-02\n",
      " -2.08983608e-02 -7.14970157e-02  3.22989263e-02  5.25585338e-02\n",
      "  6.21386729e-02 -3.07871755e-02 -6.70233043e-03  6.14217995e-03\n",
      "  2.54955888e-02  2.85540149e-03 -1.79509469e-03 -7.15869060e-03\n",
      "  2.84899194e-02  8.77956767e-03  4.27490510e-02 -1.87277980e-03\n",
      " -1.98466722e-02 -6.89064190e-02  3.62876483e-04  3.14591196e-03\n",
      " -2.68282872e-02 -2.80486187e-03  2.74127312e-02 -9.96939000e-03\n",
      "  2.37117801e-02  1.19839963e-02 -2.32604947e-02  6.30545467e-02\n",
      "  3.66357453e-02 -5.30324467e-02 -3.26110385e-02 -1.60796884e-02\n",
      "  3.11884191e-02  4.34904881e-02  6.04063459e-02  4.79880720e-03\n",
      " -1.88948382e-02  5.53192422e-02  4.32799803e-03 -3.90356705e-02\n",
      "  5.82578592e-02  9.85913910e-03  6.98710456e-02 -4.49888669e-02\n",
      "  5.67210391e-02  2.51351204e-02  1.67246796e-02  7.88880885e-02\n",
      "  4.25990708e-02  2.41412707e-02 -1.03795100e-02  8.37340113e-03\n",
      "  3.85501683e-02 -1.40730524e-02  1.75762840e-03 -3.13566700e-02\n",
      " -9.09924787e-03  4.91840467e-02 -3.61948274e-02  2.91101318e-02\n",
      " -9.43225902e-03 -1.36856521e-02 -2.50334553e-02 -1.93831753e-02\n",
      "  9.88572463e-03 -1.35693245e-03  1.07541382e-02  2.25455537e-02\n",
      "  5.28680719e-02 -2.81047616e-02 -5.50928637e-02 -5.24700470e-02\n",
      "  1.48387756e-02  4.24960293e-02  3.20599712e-02 -9.30685736e-03\n",
      " -1.33287553e-02 -2.15699077e-02  2.30214521e-02  3.10723167e-02\n",
      "  1.45419892e-02 -1.38037996e-02 -2.37573627e-02  4.34121266e-02\n",
      "  1.86600648e-02 -7.01703690e-03  2.48664478e-03  1.08085824e-02\n",
      "  3.60952616e-02  4.40047570e-02 -1.11914938e-02 -1.11325942e-02\n",
      " -1.42867276e-02 -2.08800612e-03  3.54077816e-02 -3.15833315e-02\n",
      " -5.85258333e-03  1.74479873e-03 -3.50955268e-03  3.28045078e-02\n",
      " -1.26189960e-03 -3.76726128e-03  2.31224243e-02 -4.78008017e-02\n",
      "  9.71419923e-03  2.37953775e-02 -3.77118923e-02  8.67628232e-02\n",
      " -3.33605125e-03 -5.43854088e-02  1.03399539e-02 -1.91710014e-02\n",
      " -7.25540519e-02  4.34284620e-02 -6.33329153e-03 -3.44552733e-02\n",
      "  4.70548682e-02 -1.31953098e-02  9.79967322e-03  4.11290526e-02\n",
      " -3.95016596e-02 -4.56031449e-02  6.12077583e-03  2.15968825e-02\n",
      "  3.92368948e-03  3.26820277e-02  5.60512319e-02  2.27394607e-02\n",
      " -9.11117531e-03 -9.42312181e-03  1.00357011e-02 -4.68995469e-03\n",
      "  2.60770004e-02 -5.89913428e-02  1.11897616e-02  9.91042703e-03\n",
      " -4.34047263e-03 -3.97041664e-02  3.69070582e-02 -1.14809878e-01\n",
      "  3.31443325e-02 -6.70645479e-03  1.13232778e-02 -1.26584619e-02\n",
      " -5.05525731e-02  1.28655182e-02 -8.23192000e-02  2.42753532e-02\n",
      "  2.54520569e-02 -1.60746146e-02  2.70379167e-02 -1.51378545e-03\n",
      " -3.01738968e-03  3.57100703e-02  4.83256951e-03 -2.17840876e-02\n",
      " -1.27050076e-02  4.44024578e-02  3.93820964e-02 -3.72162014e-02\n",
      "  6.38870057e-03 -6.00843690e-02 -1.79078598e-02 -4.09593107e-03\n",
      "  1.54124089e-02 -1.29096033e-02 -3.58245149e-02 -3.47939879e-02\n",
      "  2.21858751e-02 -5.20587713e-02  6.76896349e-02  3.79511379e-02\n",
      " -1.93304438e-02 -1.72457732e-02 -2.14064214e-02 -8.51924717e-02\n",
      "  1.00285612e-01 -7.49099329e-02 -2.70120963e-03 -1.10258097e-02\n",
      "  7.11522158e-03 -2.99303830e-02 -3.17756124e-02 -1.82654243e-02\n",
      " -5.75087871e-03 -4.63624485e-02 -2.61930488e-02 -3.75256315e-02\n",
      " -1.85048096e-02 -2.47139055e-02  1.73361264e-02 -7.40891621e-02\n",
      "  7.69674359e-03 -2.38285307e-02  1.82778314e-02  1.71179362e-02\n",
      "  2.49520745e-02 -4.98449169e-02 -6.20711362e-03 -4.06682231e-02\n",
      " -1.60311963e-02 -3.65019143e-02  2.33573336e-02 -3.36491357e-04\n",
      "  4.37154286e-02 -1.45279588e-02  1.81491580e-02 -1.55753139e-02\n",
      " -3.18400785e-02 -4.45180535e-02  1.51602281e-02  3.13034584e-03\n",
      "  2.62502469e-02  1.91783831e-02 -4.92104562e-03 -4.36910912e-02\n",
      " -6.88308338e-03  6.51967376e-02 -5.72822765e-02  7.64697837e-03\n",
      " -3.60008143e-02 -3.28373984e-02 -3.85325365e-02  3.03957388e-02\n",
      "  3.65844630e-02 -7.86902034e-04  2.88440213e-02  1.84267096e-03\n",
      "  3.85146216e-02 -3.17470059e-02 -8.52998253e-03  7.57300109e-02\n",
      "  5.11012375e-02  3.83895561e-02  1.08618643e-02  2.81010289e-02\n",
      "  3.14501412e-02 -7.41415843e-03  4.34832536e-02  7.34504536e-02\n",
      " -3.51146981e-02  9.09988768e-03  4.70846221e-02 -2.55284421e-02\n",
      "  1.57106351e-02 -5.66416197e-02  2.46194545e-02 -3.42205390e-02\n",
      " -8.13667569e-03  8.55926424e-03  6.34464063e-03 -1.95742175e-02\n",
      "  3.84259857e-02  5.95721835e-03 -1.98200792e-02  1.19082932e-03\n",
      " -4.26066183e-02 -2.76942682e-02  2.72521786e-02  5.99708632e-02\n",
      " -2.32145600e-02 -4.39025648e-02 -2.54611745e-02  3.65597606e-02\n",
      "  5.60773984e-02  2.51113754e-02  1.27546731e-02 -2.47401241e-02\n",
      "  9.84395389e-03  6.87539056e-02 -2.05521565e-03 -2.13416461e-02\n",
      "  3.08546573e-02 -1.65253803e-02  6.15994669e-02  1.34142181e-02\n",
      " -1.11415908e-02 -5.11252992e-02 -2.58504432e-02 -9.40761566e-02\n",
      " -3.50539386e-02  8.90644640e-03  3.19737103e-03  2.14031637e-02\n",
      " -3.11379600e-03 -6.30718656e-03 -4.16133367e-02  4.18795533e-02\n",
      " -2.65960116e-02  5.11259288e-02  3.93534862e-02  2.42613275e-02\n",
      "  2.21303925e-02 -1.99644105e-03 -3.82492542e-02 -1.96443796e-02\n",
      "  1.34251397e-02  3.80561897e-03 -6.01193458e-02 -3.52509432e-02\n",
      "  6.93115080e-03  4.58963402e-02  9.64771118e-03  5.47577115e-03\n",
      " -2.42366996e-02 -8.72623324e-02 -4.65218201e-02  2.20152643e-02\n",
      "  9.16393176e-02 -2.54607741e-02 -4.74433005e-02 -4.85903285e-02\n",
      " -2.54484508e-02  4.07983996e-02  4.12670188e-02 -1.10517498e-02\n",
      " -2.27600504e-02 -7.30989873e-02 -1.91012095e-03 -3.64674651e-03\n",
      " -4.26330939e-02  4.60196175e-02 -3.12380437e-02 -2.54988838e-02\n",
      "  4.17849934e-03 -2.96288058e-02 -3.87862623e-02 -8.72001518e-03\n",
      " -4.81025539e-02 -2.88409945e-02  1.88676286e-02  1.51993555e-03\n",
      " -1.64319929e-02  1.94140133e-02  6.45191735e-03  3.05759255e-02\n",
      " -1.11449342e-02 -8.25898070e-03  5.37432544e-03 -1.24508599e-02\n",
      " -4.59500067e-02 -2.97139585e-02  6.81148022e-02  2.33518369e-02\n",
      "  2.10294537e-02  4.40174043e-02  1.09575905e-01  1.40571790e-02\n",
      "  3.01008392e-02 -1.18289022e-02  1.70313306e-02 -2.33778101e-03\n",
      " -2.34556124e-02 -2.11189296e-02 -2.31566541e-02 -2.56114379e-02]\n"
     ]
    }
   ],
   "source": [
    "print(sample_embedding)"
   ]
  },
  {
   "cell_type": "markdown",
   "metadata": {},
   "source": [
    "## Langchain components"
   ]
  },
  {
   "cell_type": "code",
   "execution_count": 24,
   "metadata": {},
   "outputs": [],
   "source": [
    "# Initialize LangChain components\n",
    "\n",
    "# initialise response llm\n",
    "llm = ChatOllama(model=MODEL, temperature=0.7)\n",
    "\n",
    "# initialise vectorstore retriever\n",
    "embeddings = OllamaEmbeddings(model= EMBED_MODEL)\n",
    "vectorstore = Chroma(persist_directory=DB_NAME, embedding_function=embeddings)\n",
    "retriever = vectorstore.as_retriever(search_type = 'mmr',search_kwargs = {'k':4})\n",
    "\n",
    "# setting up conversation memory for chat\n",
    "memory = ConversationBufferMemory(memory_key='chat_history', return_messages=True)\n"
   ]
  },
  {
   "cell_type": "code",
   "execution_count": 25,
   "metadata": {},
   "outputs": [],
   "source": [
    "# putting all the pieces for conversational chain\n",
    "conversation_chain = ConversationalRetrievalChain.from_llm(llm=llm, retriever=retriever, memory=memory)"
   ]
  },
  {
   "cell_type": "code",
   "execution_count": 26,
   "metadata": {},
   "outputs": [],
   "source": [
    "# Wrapping that in a function\n",
    "\n",
    "def chat(question, history):\n",
    "    result = conversation_chain.invoke({\"question\": question})\n",
    "    return result[\"answer\"]"
   ]
  },
  {
   "cell_type": "markdown",
   "metadata": {},
   "source": [
    "## Gradio Chat Interface"
   ]
  },
  {
   "cell_type": "code",
   "execution_count": 27,
   "metadata": {},
   "outputs": [],
   "source": [
    "view = gr.ChatInterface(chat, type=\"messages\").launch(inbrowser=True)"
   ]
  },
  {
   "cell_type": "markdown",
   "metadata": {},
   "source": [
    "## Debugging the LLM\n",
    "**Question: Who is the Data Scientist of Insurellm**"
   ]
  },
  {
   "cell_type": "code",
   "execution_count": 28,
   "metadata": {},
   "outputs": [
    {
     "name": "stdout",
     "output_type": "stream",
     "text": [
      "\n",
      "\n",
      "\u001b[1m> Entering new ConversationalRetrievalChain chain...\u001b[0m\n",
      "\n",
      "\n",
      "\u001b[1m> Entering new StuffDocumentsChain chain...\u001b[0m\n",
      "\n",
      "\n",
      "\u001b[1m> Entering new LLMChain chain...\u001b[0m\n",
      "Prompt after formatting:\n",
      "\u001b[32;1m\u001b[1;3mSystem: Use the following pieces of context to answer the user's question. \n",
      "If you don't know the answer, just say that you don't know, don't try to make up an answer.\n",
      "----------------\n",
      "# Overview of Insurellm\n",
      "\n",
      "Insurellm is an innovative insurance tech firm with 200 employees across the US.\n",
      "Insurellm offers 4 insurance software products:\n",
      "- Carllm, a portal for auto insurance companies\n",
      "- Homellm, a portal for home insurance companies\n",
      "- Rellm, an enterprise platform for the reinsurance sector\n",
      "- Marketllm, a marketplace for connecting consumers with insurance providers\n",
      "  \n",
      "Insurellm has more than 300 clients worldwide.\n",
      "\n",
      "### 6. Customer Portal\n",
      "A user-friendly online portal and mobile application enables customers to manage their policies, submit claims, and view coverage details 24/7. Homellm prioritizes transparency and ease of use, helping insurers foster trust and long-term relationships with their customers.\n",
      "\n",
      "## Pricing\n",
      "At Insurellm, we believe in providing value without compromising quality. The pricing for Homellm is structured based on the size of the insurance provider and the level of customization required. \n",
      "\n",
      "- **Basic Tier:** Starting at $5,000/month for small insurers with basic integration features.\n",
      "- **Standard Tier:** Starting at $10,000/month for medium-sized insurers including advanced analytics and reporting tools.\n",
      "- **Enterprise Tier:** Custom pricing for large insurance companies that require full customization, dedicated support, and additional features, such as enterprise-grade security and compliance.\n",
      "\n",
      "## Pricing\n",
      "\n",
      "Carllm is offered under a subscription-based pricing model tailored to meet the needs of insurance companies of all sizes. Our pricing tiers are designed to provide maximum flexibility and value:\n",
      "\n",
      "- **Basic Tier**: $1,000/month\n",
      "  - Ideal for small insurance firms.\n",
      "  - Access to core features and standard reporting.\n",
      "\n",
      "- **Professional Tier**: $2,500/month\n",
      "  - For medium-sized companies.\n",
      "  - All Basic Tier features plus advanced analytics and fraud detection.\n",
      "\n",
      "- **Enterprise Tier**: $5,000/month\n",
      "  - Customized solutions for large insurance firms.\n",
      "  - Comprehensive support, full feature access, and integration with existing systems.\n",
      "\n",
      "Contact our sales team for a personalized quote and discover how Carllm can transform your auto insurance offerings!\n",
      "\n",
      "## 2025-2026 Roadmap\n",
      "\n",
      "In our commitment to continuous improvement and innovation, Insurellm has outlined the following roadmap for Carllm:\n",
      "\n",
      "# About Insurellm\n",
      "\n",
      "Insurellm was founded by Avery Lancaster in 2015 as an insurance tech startup designed to disrupt an industry in need of innovative products. It's first product was Markellm, the marketplace connecting consumers with insurance providers.\n",
      "It rapidly expanded, adding new products and clients, reaching 200 emmployees by 2024 with 12 offices across the US.\n",
      "\n",
      "### Regulatory Compliance Tools\n",
      "Rellm includes built-in compliance tracking features to help organizations meet local and international regulatory standards. This ensures that reinsurance practices remain transparent and accountable.\n",
      "\n",
      "### Client and Broker Portals\n",
      "Rellm offers dedicated portals for both clients and brokers, facilitating real-time communication and documentation sharing. This strengthens partnerships and drives operational excellence across the board.\n",
      "\n",
      "## Pricing\n",
      "\n",
      "Insurellm offers flexible pricing plans for Rellm to cater to various business needs:\n",
      "\n",
      "- **Basic Plan**: $5,000/month\n",
      "  - Includes access to core features and standard integrations.\n",
      "  \n",
      "- **Professional Plan**: $10,000/month\n",
      "  - Includes all features, advanced integrations, and priority customer support.\n",
      "  \n",
      "- **Enterprise Plan**: Custom pricing\n",
      "  - Tailored solutions with personalized features, extensive integrations, and dedicated account management.\n",
      "Human: Give me the pricing of all products of Insurellm\u001b[0m\n",
      "\n",
      "\u001b[1m> Finished chain.\u001b[0m\n",
      "\n",
      "\u001b[1m> Finished chain.\u001b[0m\n",
      "\n",
      "\u001b[1m> Finished chain.\u001b[0m\n",
      "Here are the pricing details for each product of Insurellm:\n",
      "\n",
      "**Homellm (Home Insurance)**\n",
      "\n",
      "* Pricing is structured based on the size of the insurance provider and the level of customization required.\n",
      "* The three tiers are:\n",
      "\t+ **Basic Tier**: Starting at $5,000/month for small insurers with basic integration features.\n",
      "\t+ **Standard Tier**: Starting at $10,000/month for medium-sized insurers including advanced analytics and reporting tools.\n",
      "\t+ **Enterprise Tier**: Custom pricing for large insurance companies that require full customization, dedicated support, and additional features.\n",
      "\n",
      "**Carllm (Auto Insurance)**\n",
      "\n",
      "* Pricing is based on a subscription-based model with three tiers:\n",
      "\t+ **Basic Tier**: $1,000/month\n",
      "\t\t- Ideal for small insurance firms.\n",
      "\t\t- Access to core features and standard reporting.\n",
      "\t+ **Professional Tier**: $2,500/month\n",
      "\t\t- For medium-sized companies.\n",
      "\t\t- All Basic Tier features plus advanced analytics and fraud detection.\n",
      "\t+ **Enterprise Tier**: $5,000/month\n",
      "\t\t- Customized solutions for large insurance firms.\n",
      "\t\t- Comprehensive support, full feature access, and integration with existing systems.\n",
      "\n",
      "**Marketllm (Insurance Marketplace)**\n",
      "\n",
      "* Pricing is not explicitly mentioned in the provided information. However, it's likely that Marketllm pricing would be based on a combination of commission-based and transaction fees, similar to other insurance marketplaces.\n",
      "\n",
      "**Rellm (Reinsurance Platform)**\n",
      "\n",
      "* Pricing is flexible and depends on the specific needs of each client.\n",
      "* The three tiers are:\n",
      "\t+ **Basic Plan**: $5,000/month\n",
      "\t\t- Includes access to core features and standard integrations.\n",
      "\t+ **Professional Plan**: $10,000/month\n",
      "\t\t- Includes all features, advanced integrations, and priority customer support.\n",
      "\t+ **Enterprise Plan**: Custom pricing\n",
      "\t\t- Tailored solutions with personalized features, extensive integrations, and dedicated account management.\n"
     ]
    }
   ],
   "source": [
    "from langchain_core.callbacks import StdOutCallbackHandler\n",
    "\n",
    "# initialise response llm\n",
    "llm = ChatOllama(model=MODEL, temperature=0.7)\n",
    "\n",
    "# initialise vectorstore retriever\n",
    "embeddings = OllamaEmbeddings(model= EMBED_MODEL)\n",
    "vectorstore = Chroma(persist_directory=DB_NAME, embedding_function=embeddings)\n",
    "retriever = vectorstore.as_retriever(search_type = 'similarity',search_kwargs = {'k':5})\n",
    "\n",
    "# setting up conversation memory for chat\n",
    "memory = ConversationBufferMemory(memory_key='chat_history', return_messages=True)\n",
    "\n",
    "# putting all the pieces for conversational chain\n",
    "conversation_chain = ConversationalRetrievalChain.from_llm(llm=llm, retriever=retriever, memory=memory,callbacks=[StdOutCallbackHandler()])\n",
    "\n",
    "query = \"Give me the pricing of all products of Insurellm\"\n",
    "result = conversation_chain.invoke({'question': query})\n",
    "answer = result['answer']\n",
    "print(answer)"
   ]
  },
  {
   "cell_type": "code",
   "execution_count": null,
   "metadata": {},
   "outputs": [],
   "source": []
  }
 ],
 "metadata": {
  "kernelspec": {
   "display_name": ".venv",
   "language": "python",
   "name": "python3"
  },
  "language_info": {
   "codemirror_mode": {
    "name": "ipython",
    "version": 3
   },
   "file_extension": ".py",
   "mimetype": "text/x-python",
   "name": "python",
   "nbconvert_exporter": "python",
   "pygments_lexer": "ipython3",
   "version": "3.10.2"
  }
 },
 "nbformat": 4,
 "nbformat_minor": 2
}
